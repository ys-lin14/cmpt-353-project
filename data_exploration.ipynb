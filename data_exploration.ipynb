{
 "cells": [
  {
   "cell_type": "code",
   "execution_count": 1,
   "metadata": {},
   "outputs": [],
   "source": [
    "import pandas as pd\n",
    "import transform"
   ]
  },
  {
   "cell_type": "code",
   "execution_count": 2,
   "metadata": {},
   "outputs": [],
   "source": [
    "# trailing data error resolved using Andrew's answer at\n",
    "# https://stackoverflow.com/questions/30088006/\n",
    "osm_data = pd.read_json('data/amenities-vancouver.json.gz', lines=True)"
   ]
  },
  {
   "cell_type": "code",
   "execution_count": 3,
   "metadata": {},
   "outputs": [
    {
     "data": {
      "text/html": [
       "<div>\n",
       "<style scoped>\n",
       "    .dataframe tbody tr th:only-of-type {\n",
       "        vertical-align: middle;\n",
       "    }\n",
       "\n",
       "    .dataframe tbody tr th {\n",
       "        vertical-align: top;\n",
       "    }\n",
       "\n",
       "    .dataframe thead th {\n",
       "        text-align: right;\n",
       "    }\n",
       "</style>\n",
       "<table border=\"1\" class=\"dataframe\">\n",
       "  <thead>\n",
       "    <tr style=\"text-align: right;\">\n",
       "      <th></th>\n",
       "      <th>lat</th>\n",
       "      <th>lon</th>\n",
       "      <th>timestamp</th>\n",
       "      <th>amenity</th>\n",
       "      <th>name</th>\n",
       "      <th>tags</th>\n",
       "    </tr>\n",
       "  </thead>\n",
       "  <tbody>\n",
       "    <tr>\n",
       "      <th>0</th>\n",
       "      <td>49.260812</td>\n",
       "      <td>-123.125736</td>\n",
       "      <td>2020-03-20T18:22:12.000-07:00</td>\n",
       "      <td>cafe</td>\n",
       "      <td>Starbucks</td>\n",
       "      <td>{'brand:wikidata': 'Q37158', 'official_name': ...</td>\n",
       "    </tr>\n",
       "    <tr>\n",
       "      <th>1</th>\n",
       "      <td>49.260953</td>\n",
       "      <td>-123.125704</td>\n",
       "      <td>2019-08-02T18:11:20.000-07:00</td>\n",
       "      <td>fast_food</td>\n",
       "      <td>Salad Loop</td>\n",
       "      <td>{'opening_hours': 'Mo-Fr 07:00-17:00; Sa 10:00...</td>\n",
       "    </tr>\n",
       "    <tr>\n",
       "      <th>2</th>\n",
       "      <td>49.373423</td>\n",
       "      <td>-123.291894</td>\n",
       "      <td>2016-10-10T02:14:29.000-07:00</td>\n",
       "      <td>toilets</td>\n",
       "      <td>NaN</td>\n",
       "      <td>{}</td>\n",
       "    </tr>\n",
       "  </tbody>\n",
       "</table>\n",
       "</div>"
      ],
      "text/plain": [
       "         lat         lon                      timestamp    amenity  \\\n",
       "0  49.260812 -123.125736  2020-03-20T18:22:12.000-07:00       cafe   \n",
       "1  49.260953 -123.125704  2019-08-02T18:11:20.000-07:00  fast_food   \n",
       "2  49.373423 -123.291894  2016-10-10T02:14:29.000-07:00    toilets   \n",
       "\n",
       "         name                                               tags  \n",
       "0   Starbucks  {'brand:wikidata': 'Q37158', 'official_name': ...  \n",
       "1  Salad Loop  {'opening_hours': 'Mo-Fr 07:00-17:00; Sa 10:00...  \n",
       "2         NaN                                                 {}  "
      ]
     },
     "execution_count": 3,
     "metadata": {},
     "output_type": "execute_result"
    }
   ],
   "source": [
    "osm_data.head(3)"
   ]
  },
  {
   "cell_type": "markdown",
   "metadata": {},
   "source": [
    "The aim of this exploration is to discover and analyze the limitations of features which may help us identify restaurants."
   ]
  },
  {
   "cell_type": "code",
   "execution_count": null,
   "metadata": {},
   "outputs": [],
   "source": [
    "# amenity label may help identify restaurants"
   ]
  },
  {
   "cell_type": "code",
   "execution_count": 51,
   "metadata": {
    "scrolled": false
   },
   "outputs": [
    {
     "data": {
      "text/plain": [
       "{'brand:wikidata': 'Q37158',\n",
       " 'official_name': 'Starbucks Coffee',\n",
       " 'addr:housenumber': '2787',\n",
       " 'brand:wikipedia': 'en:Starbucks',\n",
       " 'opening_hours': 'Mo-Th 05:30-19:30; Fr-Su 05:30-20:00',\n",
       " 'cuisine': 'coffee_shop',\n",
       " 'addr:street': 'Laurel Street',\n",
       " 'takeaway': 'yes',\n",
       " 'brand': 'Starbucks'}"
      ]
     },
     "execution_count": 51,
     "metadata": {},
     "output_type": "execute_result"
    }
   ],
   "source": [
    "osm_data.loc[0, 'tags']"
   ]
  },
  {
   "cell_type": "code",
   "execution_count": null,
   "metadata": {},
   "outputs": [],
   "source": [
    "# cuisine tag may also help identify restaurants while brand and brand:wikidata may help identify \n",
    "# chain restaurants"
   ]
  },
  {
   "cell_type": "code",
   "execution_count": 49,
   "metadata": {
    "scrolled": true
   },
   "outputs": [
    {
     "data": {
      "text/html": [
       "<div>\n",
       "<style scoped>\n",
       "    .dataframe tbody tr th:only-of-type {\n",
       "        vertical-align: middle;\n",
       "    }\n",
       "\n",
       "    .dataframe tbody tr th {\n",
       "        vertical-align: top;\n",
       "    }\n",
       "\n",
       "    .dataframe thead th {\n",
       "        text-align: right;\n",
       "    }\n",
       "</style>\n",
       "<table border=\"1\" class=\"dataframe\">\n",
       "  <thead>\n",
       "    <tr style=\"text-align: right;\">\n",
       "      <th></th>\n",
       "      <th>lat</th>\n",
       "      <th>lon</th>\n",
       "      <th>timestamp</th>\n",
       "      <th>amenity</th>\n",
       "      <th>name</th>\n",
       "      <th>tags</th>\n",
       "      <th>brand</th>\n",
       "      <th>cuisine</th>\n",
       "      <th>qid</th>\n",
       "    </tr>\n",
       "  </thead>\n",
       "  <tbody>\n",
       "    <tr>\n",
       "      <th>6028</th>\n",
       "      <td>49.324905</td>\n",
       "      <td>-123.136894</td>\n",
       "      <td>2019-04-29T03:53:05.000-07:00</td>\n",
       "      <td>juice_bar</td>\n",
       "      <td>Orange Julius</td>\n",
       "      <td>{'wheelchair': 'yes', 'shop': 'beverages', 'le...</td>\n",
       "      <td>None</td>\n",
       "      <td>None</td>\n",
       "      <td>None</td>\n",
       "    </tr>\n",
       "  </tbody>\n",
       "</table>\n",
       "</div>"
      ],
      "text/plain": [
       "            lat         lon                      timestamp    amenity  \\\n",
       "6028  49.324905 -123.136894  2019-04-29T03:53:05.000-07:00  juice_bar   \n",
       "\n",
       "               name                                               tags brand  \\\n",
       "6028  Orange Julius  {'wheelchair': 'yes', 'shop': 'beverages', 'le...  None   \n",
       "\n",
       "     cuisine   qid  \n",
       "6028    None  None  "
      ]
     },
     "execution_count": 49,
     "metadata": {},
     "output_type": "execute_result"
    }
   ],
   "source": [
    "is_juice_bar = (osm_data['amenity'] == 'juice_bar')\n",
    "osm_data[is_juice_bar]"
   ]
  },
  {
   "cell_type": "markdown",
   "metadata": {},
   "source": [
    "Looking at the value counts for the amenity column, we came across a juice_bar amenity that only appeared once. Further inspection shows that it was Orange Julius - a juice chain."
   ]
  },
  {
   "cell_type": "code",
   "execution_count": 50,
   "metadata": {
    "scrolled": true
   },
   "outputs": [
    {
     "data": {
      "text/html": [
       "<div>\n",
       "<style scoped>\n",
       "    .dataframe tbody tr th:only-of-type {\n",
       "        vertical-align: middle;\n",
       "    }\n",
       "\n",
       "    .dataframe tbody tr th {\n",
       "        vertical-align: top;\n",
       "    }\n",
       "\n",
       "    .dataframe thead th {\n",
       "        text-align: right;\n",
       "    }\n",
       "</style>\n",
       "<table border=\"1\" class=\"dataframe\">\n",
       "  <thead>\n",
       "    <tr style=\"text-align: right;\">\n",
       "      <th></th>\n",
       "      <th>lat</th>\n",
       "      <th>lon</th>\n",
       "      <th>timestamp</th>\n",
       "      <th>amenity</th>\n",
       "      <th>name</th>\n",
       "      <th>tags</th>\n",
       "      <th>brand</th>\n",
       "      <th>cuisine</th>\n",
       "      <th>qid</th>\n",
       "    </tr>\n",
       "  </thead>\n",
       "  <tbody>\n",
       "    <tr>\n",
       "      <th>1673</th>\n",
       "      <td>49.227280</td>\n",
       "      <td>-123.000180</td>\n",
       "      <td>2018-04-21T18:56:31.000-07:00</td>\n",
       "      <td>bar</td>\n",
       "      <td>Orange Julius</td>\n",
       "      <td>{'level': '0', 'name:en': 'Orange Julius'}</td>\n",
       "      <td>None</td>\n",
       "      <td>None</td>\n",
       "      <td>None</td>\n",
       "    </tr>\n",
       "    <tr>\n",
       "      <th>1749</th>\n",
       "      <td>49.225784</td>\n",
       "      <td>-122.997807</td>\n",
       "      <td>2019-08-24T15:19:56.000-07:00</td>\n",
       "      <td>fast_food</td>\n",
       "      <td>Orange Julius</td>\n",
       "      <td>{'brand:wikidata': 'Q3355059', 'level': '1', '...</td>\n",
       "      <td>Orange Julius</td>\n",
       "      <td>juice</td>\n",
       "      <td>Q3355059</td>\n",
       "    </tr>\n",
       "    <tr>\n",
       "      <th>1838</th>\n",
       "      <td>49.250704</td>\n",
       "      <td>-122.896108</td>\n",
       "      <td>2017-03-13T04:15:38.000-07:00</td>\n",
       "      <td>bar</td>\n",
       "      <td>Orange Julius</td>\n",
       "      <td>{'name:en': 'Orange Julius'}</td>\n",
       "      <td>None</td>\n",
       "      <td>None</td>\n",
       "      <td>None</td>\n",
       "    </tr>\n",
       "    <tr>\n",
       "      <th>2682</th>\n",
       "      <td>49.186848</td>\n",
       "      <td>-122.849032</td>\n",
       "      <td>2019-06-25T03:54:28.000-07:00</td>\n",
       "      <td>fast_food</td>\n",
       "      <td>Orange Julius</td>\n",
       "      <td>{'brand:wikidata': 'Q3355059', 'brand:wikipedi...</td>\n",
       "      <td>Orange Julius</td>\n",
       "      <td>juice</td>\n",
       "      <td>Q3355059</td>\n",
       "    </tr>\n",
       "    <tr>\n",
       "      <th>6028</th>\n",
       "      <td>49.324905</td>\n",
       "      <td>-123.136894</td>\n",
       "      <td>2019-04-29T03:53:05.000-07:00</td>\n",
       "      <td>juice_bar</td>\n",
       "      <td>Orange Julius</td>\n",
       "      <td>{'wheelchair': 'yes', 'shop': 'beverages', 'le...</td>\n",
       "      <td>None</td>\n",
       "      <td>None</td>\n",
       "      <td>None</td>\n",
       "    </tr>\n",
       "    <tr>\n",
       "      <th>10084</th>\n",
       "      <td>49.279597</td>\n",
       "      <td>-123.117415</td>\n",
       "      <td>2019-08-29T17:37:11.000-07:00</td>\n",
       "      <td>fast_food</td>\n",
       "      <td>Orange Julius</td>\n",
       "      <td>{'brand:wikidata': 'Q3355059', 'addr:housenumb...</td>\n",
       "      <td>Orange Julius</td>\n",
       "      <td>juice</td>\n",
       "      <td>Q3355059</td>\n",
       "    </tr>\n",
       "    <tr>\n",
       "      <th>11402</th>\n",
       "      <td>49.114470</td>\n",
       "      <td>-122.675202</td>\n",
       "      <td>2014-08-07T06:09:36.000-07:00</td>\n",
       "      <td>fast_food</td>\n",
       "      <td>Orange Julius</td>\n",
       "      <td>{}</td>\n",
       "      <td>None</td>\n",
       "      <td>None</td>\n",
       "      <td>None</td>\n",
       "    </tr>\n",
       "    <tr>\n",
       "      <th>11613</th>\n",
       "      <td>49.197116</td>\n",
       "      <td>-123.176786</td>\n",
       "      <td>2019-09-14T05:00:22.000-07:00</td>\n",
       "      <td>fast_food</td>\n",
       "      <td>Orange Julius</td>\n",
       "      <td>{'brand:wikidata': 'Q3355059', 'cuisine': 'jui...</td>\n",
       "      <td>Orange Julius</td>\n",
       "      <td>juice</td>\n",
       "      <td>Q3355059</td>\n",
       "    </tr>\n",
       "  </tbody>\n",
       "</table>\n",
       "</div>"
      ],
      "text/plain": [
       "             lat         lon                      timestamp    amenity  \\\n",
       "1673   49.227280 -123.000180  2018-04-21T18:56:31.000-07:00        bar   \n",
       "1749   49.225784 -122.997807  2019-08-24T15:19:56.000-07:00  fast_food   \n",
       "1838   49.250704 -122.896108  2017-03-13T04:15:38.000-07:00        bar   \n",
       "2682   49.186848 -122.849032  2019-06-25T03:54:28.000-07:00  fast_food   \n",
       "6028   49.324905 -123.136894  2019-04-29T03:53:05.000-07:00  juice_bar   \n",
       "10084  49.279597 -123.117415  2019-08-29T17:37:11.000-07:00  fast_food   \n",
       "11402  49.114470 -122.675202  2014-08-07T06:09:36.000-07:00  fast_food   \n",
       "11613  49.197116 -123.176786  2019-09-14T05:00:22.000-07:00  fast_food   \n",
       "\n",
       "                name                                               tags  \\\n",
       "1673   Orange Julius         {'level': '0', 'name:en': 'Orange Julius'}   \n",
       "1749   Orange Julius  {'brand:wikidata': 'Q3355059', 'level': '1', '...   \n",
       "1838   Orange Julius                       {'name:en': 'Orange Julius'}   \n",
       "2682   Orange Julius  {'brand:wikidata': 'Q3355059', 'brand:wikipedi...   \n",
       "6028   Orange Julius  {'wheelchair': 'yes', 'shop': 'beverages', 'le...   \n",
       "10084  Orange Julius  {'brand:wikidata': 'Q3355059', 'addr:housenumb...   \n",
       "11402  Orange Julius                                                 {}   \n",
       "11613  Orange Julius  {'brand:wikidata': 'Q3355059', 'cuisine': 'jui...   \n",
       "\n",
       "               brand cuisine       qid  \n",
       "1673            None    None      None  \n",
       "1749   Orange Julius   juice  Q3355059  \n",
       "1838            None    None      None  \n",
       "2682   Orange Julius   juice  Q3355059  \n",
       "6028            None    None      None  \n",
       "10084  Orange Julius   juice  Q3355059  \n",
       "11402           None    None      None  \n",
       "11613  Orange Julius   juice  Q3355059  "
      ]
     },
     "execution_count": 50,
     "metadata": {},
     "output_type": "execute_result"
    }
   ],
   "source": [
    "is_orange_julius = (osm_data['name'] == 'Orange Julius')\n",
    "osm_data[is_orange_julius]"
   ]
  },
  {
   "cell_type": "markdown",
   "metadata": {},
   "source": [
    "Looking for Orange Julius by name reveals that there are indeed more Orange Juliuses in Vancouver. These Orange Juliuses have different amenity labels and are not all associated with its Wikidata entry. This demonstrates how a restaurant may have different amenity labels and tags and is significant as it has to be taken into account during preprocessing and reduces the extent to which we can use amenity and tags to identify restaurants."
   ]
  }
 ],
 "metadata": {
  "kernelspec": {
   "display_name": "Python 3",
   "language": "python",
   "name": "python3"
  },
  "language_info": {
   "codemirror_mode": {
    "name": "ipython",
    "version": 3
   },
   "file_extension": ".py",
   "mimetype": "text/x-python",
   "name": "python",
   "nbconvert_exporter": "python",
   "pygments_lexer": "ipython3",
   "version": "3.8.5"
  }
 },
 "nbformat": 4,
 "nbformat_minor": 4
}
