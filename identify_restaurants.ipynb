{
 "cells": [
  {
   "cell_type": "code",
   "execution_count": 1,
   "metadata": {},
   "outputs": [],
   "source": [
    "import numpy as np\n",
    "import pandas as pd\n",
    "\n",
    "import transform"
   ]
  },
  {
   "cell_type": "code",
   "execution_count": 2,
   "metadata": {},
   "outputs": [],
   "source": [
    "osm_data = pd.read_json('data/preprocessed-osm-data.json.gz')\n",
    "chain_restaurant_qids = pd.read_json('data/chain-restaurant-qids.json')"
   ]
  },
  {
   "cell_type": "markdown",
   "metadata": {},
   "source": [
    "The aim of this notebook is to identify restaurants by using amenities and tags from the OSM data."
   ]
  },
  {
   "cell_type": "code",
   "execution_count": 9,
   "metadata": {
    "scrolled": true
   },
   "outputs": [
    {
     "name": "stdout",
     "output_type": "stream",
     "text": [
      "dict_keys(['restaurant', 'fast_food', 'cafe', 'pub', 'bar', 'ice_cream', 'food_court', 'bbq', 'juice_bar', 'disused:restaurant', 'bistro'])\n",
      "Number of restaurants using amenities found manually: 5149\n"
     ]
    }
   ],
   "source": [
    "# find restaurants using amenities found manually\n",
    "manual_restaurant_amenities = [\n",
    "    'restaurant', 'fast_food', 'cafe', 'pub', 'bar', 'ice_cream', \n",
    "    'food_court', 'bbq', 'juice_bar', 'disused:restaurant', 'bistro'\n",
    "]\n",
    "manual_restaurant_amenities = dict(zip(\n",
    "    manual_restaurant_amenities, \n",
    "    np.ones_like(manual_restaurant_amenities, dtype=int)\n",
    "))\n",
    "num_manual_restaurants = transform.get_num_restaurants(osm_data, manual_restaurant_amenities)\n",
    "print(manual_restaurant_amenities.keys())\n",
    "print('Number of restaurants using amenities found manually:', num_manual_restaurants)"
   ]
  },
  {
   "cell_type": "markdown",
   "metadata": {},
   "source": [
    "We first start off with a manual approach which is basically looking through each (unique) amenity and noting down ones that may be associated with restaurants. A limitation for this approach includes how it may not be viable for larger data."
   ]
  },
  {
   "cell_type": "code",
   "execution_count": 5,
   "metadata": {
    "scrolled": false
   },
   "outputs": [
    {
     "name": "stdout",
     "output_type": "stream",
     "text": [
      "dict_keys(['cafe', 'restaurant', 'fast_food', 'bar', 'pub', 'ice_cream', 'construction'])\n",
      "Number of restaurants using amenities with a cuisine tag: 5129\n"
     ]
    }
   ],
   "source": [
    "# find restaurants using amenities associated with a cuisine tag \n",
    "restaurant_amenities = transform.get_restaurant_amenities(osm_data)\n",
    "num_restaurants = transform.get_num_restaurants(osm_data, restaurant_amenities)\n",
    "print(restaurant_amenities.keys())\n",
    "print('Number of restaurants using amenities with a cuisine tag:', num_restaurants)"
   ]
  },
  {
   "cell_type": "markdown",
   "metadata": {},
   "source": [
    "Second, we move onto a more automated approach in which we look at the amenities of OSM entries that have a cuisine tag. This approach misses some of the restaurant amenities we found manually and considers OSM entries with a 'construction' amenity to be restaurants too which may be possible limitations."
   ]
  },
  {
   "cell_type": "code",
   "execution_count": 11,
   "metadata": {
    "scrolled": true
   },
   "outputs": [
    {
     "data": {
      "text/html": [
       "<div>\n",
       "<style scoped>\n",
       "    .dataframe tbody tr th:only-of-type {\n",
       "        vertical-align: middle;\n",
       "    }\n",
       "\n",
       "    .dataframe tbody tr th {\n",
       "        vertical-align: top;\n",
       "    }\n",
       "\n",
       "    .dataframe thead th {\n",
       "        text-align: right;\n",
       "    }\n",
       "</style>\n",
       "<table border=\"1\" class=\"dataframe\">\n",
       "  <thead>\n",
       "    <tr style=\"text-align: right;\">\n",
       "      <th></th>\n",
       "      <th>lat</th>\n",
       "      <th>lon</th>\n",
       "      <th>timestamp</th>\n",
       "      <th>amenity</th>\n",
       "      <th>name</th>\n",
       "      <th>tags</th>\n",
       "      <th>cuisine</th>\n",
       "      <th>qid</th>\n",
       "    </tr>\n",
       "  </thead>\n",
       "  <tbody>\n",
       "    <tr>\n",
       "      <th>1380</th>\n",
       "      <td>49.049802</td>\n",
       "      <td>-122.311772</td>\n",
       "      <td>2019-12-15T14:47:03.000-08:00</td>\n",
       "      <td>construction</td>\n",
       "      <td>Sy's Vegan Bistro</td>\n",
       "      <td>{'addr:housenumber': '32900', 'website': 'http...</td>\n",
       "      <td>None</td>\n",
       "      <td>None</td>\n",
       "    </tr>\n",
       "    <tr>\n",
       "      <th>5323</th>\n",
       "      <td>49.046901</td>\n",
       "      <td>-122.307060</td>\n",
       "      <td>2016-11-09T04:03:58.000-08:00</td>\n",
       "      <td>construction</td>\n",
       "      <td>None</td>\n",
       "      <td>{'construction': 'bench'}</td>\n",
       "      <td>None</td>\n",
       "      <td>None</td>\n",
       "    </tr>\n",
       "    <tr>\n",
       "      <th>8146</th>\n",
       "      <td>49.058713</td>\n",
       "      <td>-122.380389</td>\n",
       "      <td>2019-05-04T22:17:33.000-07:00</td>\n",
       "      <td>construction</td>\n",
       "      <td>Go-Grill</td>\n",
       "      <td>{'construction': 'fast_food', 'website': 'http...</td>\n",
       "      <td>None</td>\n",
       "      <td>None</td>\n",
       "    </tr>\n",
       "    <tr>\n",
       "      <th>11933</th>\n",
       "      <td>49.057702</td>\n",
       "      <td>-122.315230</td>\n",
       "      <td>2019-12-05T13:53:29.000-08:00</td>\n",
       "      <td>construction</td>\n",
       "      <td>Cora</td>\n",
       "      <td>{'addr:housenumber': '3068', 'website': 'https...</td>\n",
       "      <td>None</td>\n",
       "      <td>Q2996960</td>\n",
       "    </tr>\n",
       "    <tr>\n",
       "      <th>15613</th>\n",
       "      <td>49.057777</td>\n",
       "      <td>-122.314627</td>\n",
       "      <td>2019-08-07T01:30:54.000-07:00</td>\n",
       "      <td>construction</td>\n",
       "      <td>AfterThoughts</td>\n",
       "      <td>{'addr:housenumber': '3050', 'alt_name': 'Afte...</td>\n",
       "      <td>dessert</td>\n",
       "      <td>None</td>\n",
       "    </tr>\n",
       "  </tbody>\n",
       "</table>\n",
       "</div>"
      ],
      "text/plain": [
       "             lat         lon                      timestamp       amenity  \\\n",
       "1380   49.049802 -122.311772  2019-12-15T14:47:03.000-08:00  construction   \n",
       "5323   49.046901 -122.307060  2016-11-09T04:03:58.000-08:00  construction   \n",
       "8146   49.058713 -122.380389  2019-05-04T22:17:33.000-07:00  construction   \n",
       "11933  49.057702 -122.315230  2019-12-05T13:53:29.000-08:00  construction   \n",
       "15613  49.057777 -122.314627  2019-08-07T01:30:54.000-07:00  construction   \n",
       "\n",
       "                    name                                               tags  \\\n",
       "1380   Sy's Vegan Bistro  {'addr:housenumber': '32900', 'website': 'http...   \n",
       "5323                None                          {'construction': 'bench'}   \n",
       "8146            Go-Grill  {'construction': 'fast_food', 'website': 'http...   \n",
       "11933               Cora  {'addr:housenumber': '3068', 'website': 'https...   \n",
       "15613      AfterThoughts  {'addr:housenumber': '3050', 'alt_name': 'Afte...   \n",
       "\n",
       "       cuisine       qid  \n",
       "1380      None      None  \n",
       "5323      None      None  \n",
       "8146      None      None  \n",
       "11933     None  Q2996960  \n",
       "15613  dessert      None  "
      ]
     },
     "execution_count": 11,
     "metadata": {},
     "output_type": "execute_result"
    }
   ],
   "source": [
    "is_construction = (osm_data['amenity'] == 'construction')\n",
    "osm_data[is_construction]"
   ]
  },
  {
   "cell_type": "markdown",
   "metadata": {},
   "source": [
    "Further inspection reveals that there are indeed some restaurants with a 'construction' amenity."
   ]
  },
  {
   "cell_type": "markdown",
   "metadata": {},
   "source": [
    "In conclusion, the <br><br>\n",
    "\n",
    "\n",
    "Manual Approach\n",
    "- may be time consuming / not be viable for larger data with many unique amenities\n",
    "- may miss restaurants with weird amenities (false negatives)\n",
    "\n",
    "while the\n",
    "<br>\n",
    "\n",
    "Cuisine Tag Approach\n",
    "- is more automatic\n",
    "- may identify restaurants with weird amenities\n",
    "- may consider some non-restaurants as restaurants (false positives)\n",
    "- may miss some restaurants (false negatives)\n"
   ]
  }
 ],
 "metadata": {
  "kernelspec": {
   "display_name": "Python 3",
   "language": "python",
   "name": "python3"
  },
  "language_info": {
   "codemirror_mode": {
    "name": "ipython",
    "version": 3
   },
   "file_extension": ".py",
   "mimetype": "text/x-python",
   "name": "python",
   "nbconvert_exporter": "python",
   "pygments_lexer": "ipython3",
   "version": "3.8.5"
  }
 },
 "nbformat": 4,
 "nbformat_minor": 4
}
