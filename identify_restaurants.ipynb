{
 "cells": [
  {
   "cell_type": "code",
   "execution_count": 1,
   "metadata": {},
   "outputs": [],
   "source": [
    "import numpy as np\n",
    "import pandas as pd\n",
    "\n",
    "import transform"
   ]
  },
  {
   "cell_type": "code",
   "execution_count": 9,
   "metadata": {},
   "outputs": [],
   "source": [
    "osm_data = pd.read_json('data/preprocessed-osm-data.json.gz')\n",
    "chain_restaurant_qids = pd.read_json('data/chain-restaurant-qids.json')"
   ]
  },
  {
   "cell_type": "code",
   "execution_count": 15,
   "metadata": {},
   "outputs": [
    {
     "name": "stdout",
     "output_type": "stream",
     "text": [
      "Number of Restaurants: 5149\n"
     ]
    }
   ],
   "source": [
    "# find restaurants using amenities found manually\n",
    "manual_restaurant_amenities = [\n",
    "    'restaurant', 'fast_food', 'cafe', 'pub', 'bar', 'ice_cream', \n",
    "    'food_court', 'bbq', 'juice_bar', 'disused:restaurant', 'bistro'\n",
    "]\n",
    "manual_restaurant_amenities = dict(zip(\n",
    "    manual_restaurant_amenities, \n",
    "    np.ones_like(manual_restaurant_amenities, dtype=int)\n",
    "))\n",
    "num_manual_restaurants = transform.get_num_restaurants(osm_data, manual_restaurant_amenities)\n",
    "print('Number of restaurants using amenities found manually:', num_manual_restaurants)"
   ]
  },
  {
   "cell_type": "code",
   "execution_count": 18,
   "metadata": {},
   "outputs": [
    {
     "name": "stdout",
     "output_type": "stream",
     "text": [
      "Number of restaurants using amenities with a cuisine tag: 5129\n"
     ]
    }
   ],
   "source": [
    "# find restaurants using amenities with a cuisine tag \n",
    "restaurant_amenities = transform.get_restaurant_amenities(osm_data)\n",
    "num_restaurants = transform.get_num_restaurants(osm_data, restaurant_amenities)\n",
    "print('Number of restaurants using amenities with a cuisine tag:', num_restaurants)"
   ]
  }
 ],
 "metadata": {
  "kernelspec": {
   "display_name": "Python 3",
   "language": "python",
   "name": "python3"
  },
  "language_info": {
   "codemirror_mode": {
    "name": "ipython",
    "version": 3
   },
   "file_extension": ".py",
   "mimetype": "text/x-python",
   "name": "python",
   "nbconvert_exporter": "python",
   "pygments_lexer": "ipython3",
   "version": "3.8.5"
  }
 },
 "nbformat": 4,
 "nbformat_minor": 4
}
